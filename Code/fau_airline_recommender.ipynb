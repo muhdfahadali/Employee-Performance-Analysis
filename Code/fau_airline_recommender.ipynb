{
 "cells": [
  {
   "cell_type": "markdown",
   "metadata": {},
   "source": [
    "#FAU Airline Recommender System"
   ]
  },
  {
   "cell_type": "code",
   "execution_count": 19,
   "metadata": {},
   "outputs": [],
   "source": [
    "#importing necessary libraries.\n",
    "import pandas as pd\n",
    "import numpy as np\n",
    "\n",
    "# import TfidfVector from sklearn.\n",
    "from sklearn.feature_extraction.text import TfidfVectorizer\n",
    "from sklearn.metrics.pairwise import linear_kernel"
   ]
  },
  {
   "cell_type": "code",
   "execution_count": 20,
   "metadata": {},
   "outputs": [
    {
     "name": "stdout",
     "output_type": "stream",
     "text": [
      "Index(['id', 'study degree', 'previous_experience', 'civil_status',\n",
      "       'personality_traits', 'hobbies', 'favourite sport'],\n",
      "      dtype='object')\n"
     ]
    }
   ],
   "source": [
    "#load dataset and prints columns\n",
    "employees = pd.read_csv(\"fau_airlines_onboarding.csv\")\n",
    "print(employees.columns)"
   ]
  },
  {
   "cell_type": "code",
   "execution_count": 21,
   "metadata": {},
   "outputs": [],
   "source": [
    "#joined column and a new column results from them\n",
    "def create_soup(x):\n",
    "    return ''.join(x['study degree']) + ' ' + ''.join(x['previous_experience']) + ' ' + ''.join(x['civil_status']) + ' ' + ''.join(x['personality_traits']) + ' ' + ''.join(x['hobbies']) + ' ' + ''.join(x['favourite sport'])\n",
    "employees['soup'] = employees.apply(create_soup, axis=1)"
   ]
  },
  {
   "cell_type": "code",
   "execution_count": 22,
   "metadata": {},
   "outputs": [
    {
     "data": {
      "text/plain": [
       "(100, 66)"
      ]
     },
     "execution_count": 22,
     "metadata": {},
     "output_type": "execute_result"
    }
   ],
   "source": [
    "#TfidfVectorizer class that willbe used to creat TF-IDF vector\n",
    "tfidf = TfidfVectorizer(stop_words='english')\n",
    "tfidf_matrix = tfidf.fit_transform(employees['soup'])\n",
    "tfidf_matrix.shape"
   ]
  },
  {
   "cell_type": "code",
   "execution_count": 23,
   "metadata": {},
   "outputs": [],
   "source": [
    "# Calculate the cosine similarity between all pairs\n",
    "cosine_sim = linear_kernel(tfidf_matrix, tfidf_matrix)"
   ]
  },
  {
   "cell_type": "code",
   "execution_count": 24,
   "metadata": {},
   "outputs": [],
   "source": [
    "# construct a reverse map of indices and employee IDs\n",
    "indices = pd.Series(employees.index, index=employees['id']).drop_duplicates()"
   ]
  },
  {
   "cell_type": "code",
   "execution_count": 25,
   "metadata": {},
   "outputs": [],
   "source": [
    "def get_recommendations(ID, cosine_sim=cosine_sim):\n",
    "    \n",
    "    # get the index of the employee that matches the employee ID\n",
    "    IDx = indices[ID]\n",
    "    \n",
    "    # get the pairwise similarity scores of all employees with the specified employee ID\n",
    "    sim_scores = list(enumerate(cosine_sim[IDx]))\n",
    "    \n",
    "    # sort employees based on the similarity scores\n",
    "    sim_scores = sorted(sim_scores, key=lambda x: x[1], reverse=True)\n",
    "    \n",
    "    # get the scores of the three most similar employees\n",
    "    sim_scores = sim_scores[1:4]\n",
    "    \n",
    "    # get employee indices\n",
    "    employees_indices = [i[0] for i in sim_scores]\n",
    "    \n",
    "    # return the top three most similar employees\n",
    "    return employees['id'].iloc[employees_indices]"
   ]
  },
  {
   "cell_type": "code",
   "execution_count": 26,
   "metadata": {},
   "outputs": [
    {
     "name": "stdout",
     "output_type": "stream",
     "text": [
      "88    emp_089\n",
      "41    emp_042\n",
      "75    emp_076\n",
      "Name: id, dtype: object\n"
     ]
    }
   ],
   "source": [
    "recomm=get_recommendations('emp_100', cosine_sim)\n",
    "print(recomm)"
   ]
  },
  {
   "cell_type": "code",
   "execution_count": 27,
   "metadata": {},
   "outputs": [
    {
     "data": {
      "text/html": [
       "<div>\n",
       "<style scoped>\n",
       "    .dataframe tbody tr th:only-of-type {\n",
       "        vertical-align: middle;\n",
       "    }\n",
       "\n",
       "    .dataframe tbody tr th {\n",
       "        vertical-align: top;\n",
       "    }\n",
       "\n",
       "    .dataframe thead th {\n",
       "        text-align: right;\n",
       "    }\n",
       "</style>\n",
       "<table border=\"1\" class=\"dataframe\">\n",
       "  <thead>\n",
       "    <tr style=\"text-align: right;\">\n",
       "      <th></th>\n",
       "      <th>id</th>\n",
       "      <th>study degree</th>\n",
       "      <th>previous_experience</th>\n",
       "      <th>civil_status</th>\n",
       "      <th>personality_traits</th>\n",
       "      <th>hobbies</th>\n",
       "      <th>favourite sport</th>\n",
       "      <th>soup</th>\n",
       "    </tr>\n",
       "  </thead>\n",
       "  <tbody>\n",
       "    <tr>\n",
       "      <th>41</th>\n",
       "      <td>emp_042</td>\n",
       "      <td>media</td>\n",
       "      <td>Advanced beginner.</td>\n",
       "      <td>in a relationship</td>\n",
       "      <td>Extrovert, expresses themselves easily, outgoi...</td>\n",
       "      <td>Interest centered around learning, reading and...</td>\n",
       "      <td>tennis</td>\n",
       "      <td>media Advanced beginner. in a relationship Ext...</td>\n",
       "    </tr>\n",
       "    <tr>\n",
       "      <th>75</th>\n",
       "      <td>emp_076</td>\n",
       "      <td>psychology</td>\n",
       "      <td>Novice.</td>\n",
       "      <td>in a relationship</td>\n",
       "      <td>Extrovert, expresses themselves easily, outgoi...</td>\n",
       "      <td>Interest centered around learning, reading and...</td>\n",
       "      <td>tennis</td>\n",
       "      <td>psychology Novice. in a relationship Extrovert...</td>\n",
       "    </tr>\n",
       "    <tr>\n",
       "      <th>88</th>\n",
       "      <td>emp_089</td>\n",
       "      <td>economics</td>\n",
       "      <td>Advanced beginner.</td>\n",
       "      <td>in a relationship</td>\n",
       "      <td>Extrovert, expresses themselves easily, outgoi...</td>\n",
       "      <td>Interest centered around learning, reading and...</td>\n",
       "      <td>swimming</td>\n",
       "      <td>economics Advanced beginner. in a relationship...</td>\n",
       "    </tr>\n",
       "  </tbody>\n",
       "</table>\n",
       "</div>"
      ],
      "text/plain": [
       "         id study degree previous_experience       civil_status   \n",
       "41  emp_042        media  Advanced beginner.  in a relationship  \\\n",
       "75  emp_076   psychology             Novice.  in a relationship   \n",
       "88  emp_089    economics  Advanced beginner.  in a relationship   \n",
       "\n",
       "                                   personality_traits   \n",
       "41  Extrovert, expresses themselves easily, outgoi...  \\\n",
       "75  Extrovert, expresses themselves easily, outgoi...   \n",
       "88  Extrovert, expresses themselves easily, outgoi...   \n",
       "\n",
       "                                              hobbies favourite sport   \n",
       "41  Interest centered around learning, reading and...          tennis  \\\n",
       "75  Interest centered around learning, reading and...          tennis   \n",
       "88  Interest centered around learning, reading and...        swimming   \n",
       "\n",
       "                                                 soup  \n",
       "41  media Advanced beginner. in a relationship Ext...  \n",
       "75  psychology Novice. in a relationship Extrovert...  \n",
       "88  economics Advanced beginner. in a relationship...  "
      ]
     },
     "execution_count": 27,
     "metadata": {},
     "output_type": "execute_result"
    }
   ],
   "source": [
    "employees[employees[\"id\"].isin(['emp_042','emp_089','emp_076'])]"
   ]
  },
  {
   "cell_type": "markdown",
   "metadata": {},
   "source": [
    "# Task: 02"
   ]
  },
  {
   "cell_type": "code",
   "execution_count": 28,
   "metadata": {},
   "outputs": [
    {
     "data": {
      "text/html": [
       "<div>\n",
       "<style scoped>\n",
       "    .dataframe tbody tr th:only-of-type {\n",
       "        vertical-align: middle;\n",
       "    }\n",
       "\n",
       "    .dataframe tbody tr th {\n",
       "        vertical-align: top;\n",
       "    }\n",
       "\n",
       "    .dataframe thead th {\n",
       "        text-align: right;\n",
       "    }\n",
       "</style>\n",
       "<table border=\"1\" class=\"dataframe\">\n",
       "  <thead>\n",
       "    <tr style=\"text-align: right;\">\n",
       "      <th></th>\n",
       "      <th>id</th>\n",
       "      <th>study degree</th>\n",
       "      <th>previous_experience</th>\n",
       "      <th>civil_status</th>\n",
       "      <th>personality_traits</th>\n",
       "      <th>hobbies</th>\n",
       "      <th>favourite sport</th>\n",
       "      <th>soup</th>\n",
       "    </tr>\n",
       "  </thead>\n",
       "  <tbody>\n",
       "    <tr>\n",
       "      <th>0</th>\n",
       "      <td>emp_001</td>\n",
       "      <td>economics</td>\n",
       "      <td>Expert.</td>\n",
       "      <td>married</td>\n",
       "      <td>Extrovert, enjoys group work and likes to comm...</td>\n",
       "      <td>Interest centered around learning, reading and...</td>\n",
       "      <td>tennis</td>\n",
       "      <td>economics Expert. married Extrovert, enjoys gr...</td>\n",
       "    </tr>\n",
       "    <tr>\n",
       "      <th>1</th>\n",
       "      <td>emp_002</td>\n",
       "      <td>business</td>\n",
       "      <td>Novice.</td>\n",
       "      <td>single</td>\n",
       "      <td>Intelligent, inquisitive and seeks out knowledge</td>\n",
       "      <td>Interest centered around fitness, health, and ...</td>\n",
       "      <td>volleyball</td>\n",
       "      <td>business Novice. single Intelligent, inquisiti...</td>\n",
       "    </tr>\n",
       "    <tr>\n",
       "      <th>2</th>\n",
       "      <td>emp_003</td>\n",
       "      <td>media</td>\n",
       "      <td>Advanced beginner.</td>\n",
       "      <td>married</td>\n",
       "      <td>Introvert, empathetic, prefers a close circle ...</td>\n",
       "      <td>Keen interest in finance and investment</td>\n",
       "      <td>volleyball</td>\n",
       "      <td>media Advanced beginner. married Introvert, em...</td>\n",
       "    </tr>\n",
       "    <tr>\n",
       "      <th>3</th>\n",
       "      <td>emp_004</td>\n",
       "      <td>psychology</td>\n",
       "      <td>Competent.</td>\n",
       "      <td>single</td>\n",
       "      <td>Helpful, emotionally intelligent and gets alon...</td>\n",
       "      <td>Interest centered around physical activities a...</td>\n",
       "      <td>tennis</td>\n",
       "      <td>psychology Competent. single Helpful, emotiona...</td>\n",
       "    </tr>\n",
       "    <tr>\n",
       "      <th>4</th>\n",
       "      <td>emp_005</td>\n",
       "      <td>economics</td>\n",
       "      <td>Proficient.</td>\n",
       "      <td>single</td>\n",
       "      <td>Extrovert, enjoys group work and likes to comm...</td>\n",
       "      <td>Interest centered around fitness, health, and ...</td>\n",
       "      <td>swimming</td>\n",
       "      <td>economics Proficient. single Extrovert, enjoys...</td>\n",
       "    </tr>\n",
       "    <tr>\n",
       "      <th>...</th>\n",
       "      <td>...</td>\n",
       "      <td>...</td>\n",
       "      <td>...</td>\n",
       "      <td>...</td>\n",
       "      <td>...</td>\n",
       "      <td>...</td>\n",
       "      <td>...</td>\n",
       "      <td>...</td>\n",
       "    </tr>\n",
       "    <tr>\n",
       "      <th>96</th>\n",
       "      <td>emp_097</td>\n",
       "      <td>communication</td>\n",
       "      <td>Novice.</td>\n",
       "      <td>in a relationship</td>\n",
       "      <td>Extrovert, expresses themselves easily, outgoi...</td>\n",
       "      <td>Interest centered around learning, reading and...</td>\n",
       "      <td>volleyball</td>\n",
       "      <td>communication Novice. in a relationship Extrov...</td>\n",
       "    </tr>\n",
       "    <tr>\n",
       "      <th>97</th>\n",
       "      <td>emp_098</td>\n",
       "      <td>communication</td>\n",
       "      <td>Advanced beginner.</td>\n",
       "      <td>single</td>\n",
       "      <td>Easily upset and overly critical of the self</td>\n",
       "      <td>Interest centered around fitness, health, and ...</td>\n",
       "      <td>swimming</td>\n",
       "      <td>communication Advanced beginner. single Easily...</td>\n",
       "    </tr>\n",
       "    <tr>\n",
       "      <th>98</th>\n",
       "      <td>emp_099</td>\n",
       "      <td>psychology</td>\n",
       "      <td>Competent.</td>\n",
       "      <td>in a relationship</td>\n",
       "      <td>Helpful, emotionally intelligent and gets alon...</td>\n",
       "      <td>Interest centered around fitness, health, and ...</td>\n",
       "      <td>swimming</td>\n",
       "      <td>psychology Competent. in a relationship Helpfu...</td>\n",
       "    </tr>\n",
       "    <tr>\n",
       "      <th>99</th>\n",
       "      <td>emp_100</td>\n",
       "      <td>psychology</td>\n",
       "      <td>Advanced beginner.</td>\n",
       "      <td>in a relationship</td>\n",
       "      <td>Extrovert, expresses themselves easily, outgoi...</td>\n",
       "      <td>Interest in around reading and creative art, f...</td>\n",
       "      <td>swimming</td>\n",
       "      <td>psychology Advanced beginner. in a relationshi...</td>\n",
       "    </tr>\n",
       "    <tr>\n",
       "      <th>100</th>\n",
       "      <td>emp_101</td>\n",
       "      <td>communication</td>\n",
       "      <td>Competent.</td>\n",
       "      <td>single</td>\n",
       "      <td>Helpful, emotionally intelligent and gets alon...</td>\n",
       "      <td>Interest centered around fitness, health, and ...</td>\n",
       "      <td>swimming</td>\n",
       "      <td>NaN</td>\n",
       "    </tr>\n",
       "  </tbody>\n",
       "</table>\n",
       "<p>101 rows × 8 columns</p>\n",
       "</div>"
      ],
      "text/plain": [
       "          id   study degree previous_experience       civil_status   \n",
       "0    emp_001      economics             Expert.            married  \\\n",
       "1    emp_002       business             Novice.             single   \n",
       "2    emp_003          media  Advanced beginner.            married   \n",
       "3    emp_004     psychology          Competent.             single   \n",
       "4    emp_005      economics         Proficient.             single   \n",
       "..       ...            ...                 ...                ...   \n",
       "96   emp_097  communication             Novice.  in a relationship   \n",
       "97   emp_098  communication  Advanced beginner.             single   \n",
       "98   emp_099     psychology          Competent.  in a relationship   \n",
       "99   emp_100     psychology  Advanced beginner.  in a relationship   \n",
       "100  emp_101  communication          Competent.             single   \n",
       "\n",
       "                                    personality_traits   \n",
       "0    Extrovert, enjoys group work and likes to comm...  \\\n",
       "1     Intelligent, inquisitive and seeks out knowledge   \n",
       "2    Introvert, empathetic, prefers a close circle ...   \n",
       "3    Helpful, emotionally intelligent and gets alon...   \n",
       "4    Extrovert, enjoys group work and likes to comm...   \n",
       "..                                                 ...   \n",
       "96   Extrovert, expresses themselves easily, outgoi...   \n",
       "97        Easily upset and overly critical of the self   \n",
       "98   Helpful, emotionally intelligent and gets alon...   \n",
       "99   Extrovert, expresses themselves easily, outgoi...   \n",
       "100  Helpful, emotionally intelligent and gets alon...   \n",
       "\n",
       "                                               hobbies favourite sport   \n",
       "0    Interest centered around learning, reading and...          tennis  \\\n",
       "1    Interest centered around fitness, health, and ...      volleyball   \n",
       "2              Keen interest in finance and investment      volleyball   \n",
       "3    Interest centered around physical activities a...          tennis   \n",
       "4    Interest centered around fitness, health, and ...        swimming   \n",
       "..                                                 ...             ...   \n",
       "96   Interest centered around learning, reading and...      volleyball   \n",
       "97   Interest centered around fitness, health, and ...        swimming   \n",
       "98   Interest centered around fitness, health, and ...        swimming   \n",
       "99   Interest in around reading and creative art, f...        swimming   \n",
       "100  Interest centered around fitness, health, and ...        swimming   \n",
       "\n",
       "                                                  soup  \n",
       "0    economics Expert. married Extrovert, enjoys gr...  \n",
       "1    business Novice. single Intelligent, inquisiti...  \n",
       "2    media Advanced beginner. married Introvert, em...  \n",
       "3    psychology Competent. single Helpful, emotiona...  \n",
       "4    economics Proficient. single Extrovert, enjoys...  \n",
       "..                                                 ...  \n",
       "96   communication Novice. in a relationship Extrov...  \n",
       "97   communication Advanced beginner. single Easily...  \n",
       "98   psychology Competent. in a relationship Helpfu...  \n",
       "99   psychology Advanced beginner. in a relationshi...  \n",
       "100                                                NaN  \n",
       "\n",
       "[101 rows x 8 columns]"
      ]
     },
     "execution_count": 28,
     "metadata": {},
     "output_type": "execute_result"
    }
   ],
   "source": [
    "#task 02\n",
    "#add new employee\n",
    "\n",
    "new_employee = {\n",
    "    'id': 'emp_101',\n",
    "    'study degree': 'communication',\n",
    "    'previous_experience': 'Competent.',\n",
    "    'civil_status': 'single',\n",
    "    'personality_traits': 'Helpful, emotionally intelligent and gets along well with others',\n",
    "    'hobbies': 'Interest centered around fitness, health, and wellbeing',\n",
    "    'favourite sport': 'swimming'\n",
    "}\n",
    "\n",
    "# Convert the dictionary to a DataFrame and append it to the original DataFrame\n",
    "new_employee_df = pd.DataFrame([new_employee])\n",
    "employees = pd.concat([employees, new_employee_df], ignore_index=True)\n",
    "employees"
   ]
  },
  {
   "cell_type": "code",
   "execution_count": 29,
   "metadata": {},
   "outputs": [
    {
     "data": {
      "text/plain": [
       "id                                                               emp_101\n",
       "study degree                                               communication\n",
       "previous_experience                                           Competent.\n",
       "civil_status                                                      single\n",
       "personality_traits     Helpful, emotionally intelligent and gets alon...\n",
       "hobbies                Interest centered around fitness, health, and ...\n",
       "favourite sport                                                 swimming\n",
       "soup                                                                 NaN\n",
       "Name: 100, dtype: object"
      ]
     },
     "execution_count": 29,
     "metadata": {},
     "output_type": "execute_result"
    }
   ],
   "source": [
    "employees.iloc[100]"
   ]
  },
  {
   "cell_type": "code",
   "execution_count": 30,
   "metadata": {},
   "outputs": [],
   "source": [
    "employees['soup'] = employees.apply(create_soup, axis=1)"
   ]
  },
  {
   "cell_type": "code",
   "execution_count": 31,
   "metadata": {},
   "outputs": [
    {
     "data": {
      "text/plain": [
       "(101, 66)"
      ]
     },
     "execution_count": 31,
     "metadata": {},
     "output_type": "execute_result"
    }
   ],
   "source": [
    "#TfidfVectorizer class that willbe used to creat TF-IDF vector\n",
    "tfidf = TfidfVectorizer(stop_words='english')\n",
    "tfidf_matrix = tfidf.fit_transform(employees['soup'])\n",
    "tfidf_matrix.shape"
   ]
  },
  {
   "cell_type": "code",
   "execution_count": 32,
   "metadata": {},
   "outputs": [],
   "source": [
    "# Calculate the cosine similarity between all pairs\n",
    "cosine_sim = linear_kernel(tfidf_matrix, tfidf_matrix)"
   ]
  },
  {
   "cell_type": "code",
   "execution_count": 33,
   "metadata": {},
   "outputs": [],
   "source": [
    "# construct a reverse map of indices and employee IDs\n",
    "indices = pd.Series(employees.index, index=employees['id']).drop_duplicates()"
   ]
  },
  {
   "cell_type": "code",
   "execution_count": 34,
   "metadata": {},
   "outputs": [],
   "source": [
    "def get_recommendations(ID, cosine_sim=cosine_sim):\n",
    "    \n",
    "    # get the index of the employee that matches the employee ID\n",
    "    IDx = indices[ID]\n",
    "    \n",
    "    # get the pairwise similarity scores of all employees with the specified employee ID\n",
    "    sim_scores = list(enumerate(cosine_sim[IDx]))\n",
    "    \n",
    "    # sort employees based on the similarity scores\n",
    "    sim_scores = sorted(sim_scores, key=lambda x: x[1], reverse=True)\n",
    "    \n",
    "    # get the scores of the three most similar employees\n",
    "    sim_scores = sim_scores[1:4]\n",
    "    \n",
    "    # get employee indices\n",
    "    employees_indices = [i[0] for i in sim_scores]\n",
    "    \n",
    "    # return the top three most similar employees\n",
    "    return employees['id'].iloc[employees_indices]"
   ]
  },
  {
   "cell_type": "code",
   "execution_count": 35,
   "metadata": {},
   "outputs": [
    {
     "name": "stdout",
     "output_type": "stream",
     "text": [
      "6     emp_007\n",
      "71    emp_072\n",
      "98    emp_099\n",
      "Name: id, dtype: object\n"
     ]
    }
   ],
   "source": [
    "recomm=get_recommendations('emp_101', cosine_sim)\n",
    "print(recomm)"
   ]
  },
  {
   "cell_type": "code",
   "execution_count": 36,
   "metadata": {},
   "outputs": [
    {
     "data": {
      "text/html": [
       "<div>\n",
       "<style scoped>\n",
       "    .dataframe tbody tr th:only-of-type {\n",
       "        vertical-align: middle;\n",
       "    }\n",
       "\n",
       "    .dataframe tbody tr th {\n",
       "        vertical-align: top;\n",
       "    }\n",
       "\n",
       "    .dataframe thead th {\n",
       "        text-align: right;\n",
       "    }\n",
       "</style>\n",
       "<table border=\"1\" class=\"dataframe\">\n",
       "  <thead>\n",
       "    <tr style=\"text-align: right;\">\n",
       "      <th></th>\n",
       "      <th>id</th>\n",
       "      <th>study degree</th>\n",
       "      <th>previous_experience</th>\n",
       "      <th>civil_status</th>\n",
       "      <th>personality_traits</th>\n",
       "      <th>hobbies</th>\n",
       "      <th>favourite sport</th>\n",
       "      <th>soup</th>\n",
       "    </tr>\n",
       "  </thead>\n",
       "  <tbody>\n",
       "    <tr>\n",
       "      <th>21</th>\n",
       "      <td>emp_022</td>\n",
       "      <td>business</td>\n",
       "      <td>Advanced beginner.</td>\n",
       "      <td>single</td>\n",
       "      <td>Helpful, emotionally intelligent and gets alon...</td>\n",
       "      <td>Interest centered around fitness, health, and ...</td>\n",
       "      <td>swimming</td>\n",
       "      <td>business Advanced beginner. single Helpful, em...</td>\n",
       "    </tr>\n",
       "    <tr>\n",
       "      <th>38</th>\n",
       "      <td>emp_039</td>\n",
       "      <td>economics</td>\n",
       "      <td>Expert.</td>\n",
       "      <td>single</td>\n",
       "      <td>Helpful, emotionally intelligent and gets alon...</td>\n",
       "      <td>Interest centered around fitness, health, and ...</td>\n",
       "      <td>swimming</td>\n",
       "      <td>economics Expert. single Helpful, emotionally ...</td>\n",
       "    </tr>\n",
       "    <tr>\n",
       "      <th>62</th>\n",
       "      <td>emp_063</td>\n",
       "      <td>economics</td>\n",
       "      <td>Advanced beginner.</td>\n",
       "      <td>single</td>\n",
       "      <td>Helpful, emotionally intelligent and gets alon...</td>\n",
       "      <td>Interest centered around fitness, health, and ...</td>\n",
       "      <td>tennis</td>\n",
       "      <td>economics Advanced beginner. single Helpful, e...</td>\n",
       "    </tr>\n",
       "  </tbody>\n",
       "</table>\n",
       "</div>"
      ],
      "text/plain": [
       "         id study degree previous_experience civil_status   \n",
       "21  emp_022     business  Advanced beginner.       single  \\\n",
       "38  emp_039    economics             Expert.       single   \n",
       "62  emp_063    economics  Advanced beginner.       single   \n",
       "\n",
       "                                   personality_traits   \n",
       "21  Helpful, emotionally intelligent and gets alon...  \\\n",
       "38  Helpful, emotionally intelligent and gets alon...   \n",
       "62  Helpful, emotionally intelligent and gets alon...   \n",
       "\n",
       "                                              hobbies favourite sport   \n",
       "21  Interest centered around fitness, health, and ...        swimming  \\\n",
       "38  Interest centered around fitness, health, and ...        swimming   \n",
       "62  Interest centered around fitness, health, and ...          tennis   \n",
       "\n",
       "                                                 soup  \n",
       "21  business Advanced beginner. single Helpful, em...  \n",
       "38  economics Expert. single Helpful, emotionally ...  \n",
       "62  economics Advanced beginner. single Helpful, e...  "
      ]
     },
     "execution_count": 36,
     "metadata": {},
     "output_type": "execute_result"
    }
   ],
   "source": [
    "employees[employees[\"id\"].isin(['emp_039','emp_022','emp_063'])]"
   ]
  },
  {
   "cell_type": "code",
   "execution_count": null,
   "metadata": {},
   "outputs": [],
   "source": []
  }
 ],
 "metadata": {
  "kernelspec": {
   "display_name": "Python 3",
   "language": "python",
   "name": "python3"
  },
  "language_info": {
   "codemirror_mode": {
    "name": "ipython",
    "version": 3
   },
   "file_extension": ".py",
   "mimetype": "text/x-python",
   "name": "python",
   "nbconvert_exporter": "python",
   "pygments_lexer": "ipython3",
   "version": "3.10.6"
  }
 },
 "nbformat": 4,
 "nbformat_minor": 2
}
